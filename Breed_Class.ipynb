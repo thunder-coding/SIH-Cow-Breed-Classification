{
 "cells": [
  {
   "cell_type": "code",
   "execution_count": 34,
   "id": "bca77279",
   "metadata": {},
   "outputs": [
    {
     "name": "stdout",
     "output_type": "stream",
     "text": [
      "env: TF_GPU_ALLOCATOR=cuda_malloc_async\n"
     ]
    }
   ],
   "source": [
    "%env TF_GPU_ALLOCATOR=cuda_malloc_async\n",
    "import os\n",
    "import numpy as np\n",
    "import matplotlib.pyplot as plt\n",
    "import seaborn as sns\n",
    "from sklearn.metrics import confusion_matrix, classification_report\n",
    "\n",
    "import tensorflow as tf\n",
    "from tensorflow.keras.preprocessing.image import ImageDataGenerator\n",
    "from tensorflow.keras.applications import ResNet50V2\n",
    "from tensorflow.keras import layers, models\n",
    "from tensorflow.keras.optimizers import Nadam\n",
    "\n"
   ]
  },
  {
   "cell_type": "code",
   "execution_count": 35,
   "id": "942c6202",
   "metadata": {},
   "outputs": [
    {
     "name": "stdout",
     "output_type": "stream",
     "text": [
      "Path to dataset files: /home/user/.cache/kagglehub/datasets/anandkumarsahu09/cattle-breeds-dataset/versions/1\n"
     ]
    }
   ],
   "source": [
    "import kagglehub\n",
    "\n",
    "# Download latest version\n",
    "path = kagglehub.dataset_download(\"anandkumarsahu09/cattle-breeds-dataset\")\n",
    "\n",
    "print(\"Path to dataset files:\", path)"
   ]
  },
  {
   "cell_type": "code",
   "execution_count": 36,
   "id": "a9bd73a3",
   "metadata": {},
   "outputs": [
    {
     "name": "stdout",
     "output_type": "stream",
     "text": [
      "['Cattle Breeds']\n",
      "['Red Dane cattle', 'Ayrshire cattle', 'Jersey cattle', 'Brown Swiss cattle', 'Holstein Friesian cattle']\n"
     ]
    }
   ],
   "source": [
    "img_size = (1024, 1024)\n",
    "batch_size = 2\n",
    "print(os.listdir(path))\n",
    "dataset_path = os.path.join(path, \"Cattle Breeds\")\n",
    "print(os.listdir(dataset_path))\n",
    "classes = os.listdir(dataset_path)\n",
    "num_classes = len(classes)"
   ]
  },
  {
   "cell_type": "code",
   "execution_count": 37,
   "id": "e69e68f6",
   "metadata": {},
   "outputs": [
    {
     "name": "stdout",
     "output_type": "stream",
     "text": [
      "Found 969 images belonging to 5 classes.\n",
      "Found 239 images belonging to 5 classes.\n"
     ]
    }
   ],
   "source": [
    "datagen = ImageDataGenerator(\n",
    "    rotation_range=30,\n",
    "    width_shift_range=0.2,\n",
    "    height_shift_range=0.2,\n",
    "    shear_range=0.2,\n",
    "    zoom_range=0.2,\n",
    "    brightness_range=[0.7,1.3],\n",
    "    horizontal_flip=True,\n",
    "    validation_split=0.2 # 20% for validation\n",
    ")\n",
    "\n",
    "train_data = datagen.flow_from_directory(\n",
    "    dataset_path,\n",
    "    classes=classes,\n",
    "    target_size=img_size,\n",
    "    batch_size=batch_size,\n",
    "    class_mode='categorical',\n",
    "    subset='training',\n",
    "    color_mode='rgb'\n",
    ")\n",
    "\n",
    "val_data = datagen.flow_from_directory(\n",
    "    dataset_path,\n",
    "    classes=classes,\n",
    "    target_size=img_size,\n",
    "    batch_size=batch_size,\n",
    "    class_mode='categorical',\n",
    "    subset='validation',\n",
    "    color_mode='rgb'\n",
    ")\n"
   ]
  },
  {
   "cell_type": "code",
   "execution_count": 38,
   "id": "93003236",
   "metadata": {},
   "outputs": [
    {
     "name": "stdout",
     "output_type": "stream",
     "text": [
      "Train data shape: (1024, 1024, 3)\n",
      "Val data shape: (1024, 1024, 3)\n"
     ]
    }
   ],
   "source": [
    "print(\"Train data shape:\", train_data.image_shape)\n",
    "print(\"Val data shape:\", val_data.image_shape)\n"
   ]
  },
  {
   "cell_type": "code",
   "execution_count": 39,
   "id": "445786f5",
   "metadata": {},
   "outputs": [
    {
     "name": "stdout",
     "output_type": "stream",
     "text": [
      "Classes: {'Red Dane cattle': 0, 'Ayrshire cattle': 1, 'Jersey cattle': 2, 'Brown Swiss cattle': 3, 'Holstein Friesian cattle': 4}\n",
      "Train samples: 969\n",
      "Validation samples: 239\n"
     ]
    }
   ],
   "source": [
    "print(\"Classes:\", train_data.class_indices)   # mapping of breed → index\n",
    "print(\"Train samples:\", train_data.samples)\n",
    "print(\"Validation samples:\", val_data.samples)\n"
   ]
  },
  {
   "cell_type": "code",
   "execution_count": 40,
   "id": "fb94f29f",
   "metadata": {},
   "outputs": [
    {
     "data": {
      "text/html": [
       "<pre style=\"white-space:pre;overflow-x:auto;line-height:normal;font-family:Menlo,'DejaVu Sans Mono',consolas,'Courier New',monospace\"><span style=\"font-weight: bold\">Model: \"sequential_3\"</span>\n",
       "</pre>\n"
      ],
      "text/plain": [
       "\u001b[1mModel: \"sequential_3\"\u001b[0m\n"
      ]
     },
     "metadata": {},
     "output_type": "display_data"
    },
    {
     "data": {
      "text/html": [
       "<pre style=\"white-space:pre;overflow-x:auto;line-height:normal;font-family:Menlo,'DejaVu Sans Mono',consolas,'Courier New',monospace\">┏━━━━━━━━━━━━━━━━━━━━━━━━━━━━━━━━━┳━━━━━━━━━━━━━━━━━━━━━━━━┳━━━━━━━━━━━━━━━┓\n",
       "┃<span style=\"font-weight: bold\"> Layer (type)                    </span>┃<span style=\"font-weight: bold\"> Output Shape           </span>┃<span style=\"font-weight: bold\">       Param # </span>┃\n",
       "┡━━━━━━━━━━━━━━━━━━━━━━━━━━━━━━━━━╇━━━━━━━━━━━━━━━━━━━━━━━━╇━━━━━━━━━━━━━━━┩\n",
       "│ resnet50v2 (<span style=\"color: #0087ff; text-decoration-color: #0087ff\">Functional</span>)         │ (<span style=\"color: #00d7ff; text-decoration-color: #00d7ff\">None</span>, <span style=\"color: #00af00; text-decoration-color: #00af00\">32</span>, <span style=\"color: #00af00; text-decoration-color: #00af00\">32</span>, <span style=\"color: #00af00; text-decoration-color: #00af00\">2048</span>)   │    <span style=\"color: #00af00; text-decoration-color: #00af00\">23,564,800</span> │\n",
       "├─────────────────────────────────┼────────────────────────┼───────────────┤\n",
       "│ batch_normalization_3           │ (<span style=\"color: #00d7ff; text-decoration-color: #00d7ff\">None</span>, <span style=\"color: #00af00; text-decoration-color: #00af00\">32</span>, <span style=\"color: #00af00; text-decoration-color: #00af00\">32</span>, <span style=\"color: #00af00; text-decoration-color: #00af00\">2048</span>)   │         <span style=\"color: #00af00; text-decoration-color: #00af00\">8,192</span> │\n",
       "│ (<span style=\"color: #0087ff; text-decoration-color: #0087ff\">BatchNormalization</span>)            │                        │               │\n",
       "├─────────────────────────────────┼────────────────────────┼───────────────┤\n",
       "│ max_pooling2d_15 (<span style=\"color: #0087ff; text-decoration-color: #0087ff\">MaxPooling2D</span>) │ (<span style=\"color: #00d7ff; text-decoration-color: #00d7ff\">None</span>, <span style=\"color: #00af00; text-decoration-color: #00af00\">16</span>, <span style=\"color: #00af00; text-decoration-color: #00af00\">16</span>, <span style=\"color: #00af00; text-decoration-color: #00af00\">2048</span>)   │             <span style=\"color: #00af00; text-decoration-color: #00af00\">0</span> │\n",
       "├─────────────────────────────────┼────────────────────────┼───────────────┤\n",
       "│ global_average_pooling2d_3      │ (<span style=\"color: #00d7ff; text-decoration-color: #00d7ff\">None</span>, <span style=\"color: #00af00; text-decoration-color: #00af00\">2048</span>)           │             <span style=\"color: #00af00; text-decoration-color: #00af00\">0</span> │\n",
       "│ (<span style=\"color: #0087ff; text-decoration-color: #0087ff\">GlobalAveragePooling2D</span>)        │                        │               │\n",
       "├─────────────────────────────────┼────────────────────────┼───────────────┤\n",
       "│ dropout_3 (<span style=\"color: #0087ff; text-decoration-color: #0087ff\">Dropout</span>)             │ (<span style=\"color: #00d7ff; text-decoration-color: #00d7ff\">None</span>, <span style=\"color: #00af00; text-decoration-color: #00af00\">2048</span>)           │             <span style=\"color: #00af00; text-decoration-color: #00af00\">0</span> │\n",
       "├─────────────────────────────────┼────────────────────────┼───────────────┤\n",
       "│ dense_3 (<span style=\"color: #0087ff; text-decoration-color: #0087ff\">Dense</span>)                 │ (<span style=\"color: #00d7ff; text-decoration-color: #00d7ff\">None</span>, <span style=\"color: #00af00; text-decoration-color: #00af00\">5</span>)              │        <span style=\"color: #00af00; text-decoration-color: #00af00\">10,245</span> │\n",
       "└─────────────────────────────────┴────────────────────────┴───────────────┘\n",
       "</pre>\n"
      ],
      "text/plain": [
       "┏━━━━━━━━━━━━━━━━━━━━━━━━━━━━━━━━━┳━━━━━━━━━━━━━━━━━━━━━━━━┳━━━━━━━━━━━━━━━┓\n",
       "┃\u001b[1m \u001b[0m\u001b[1mLayer (type)                   \u001b[0m\u001b[1m \u001b[0m┃\u001b[1m \u001b[0m\u001b[1mOutput Shape          \u001b[0m\u001b[1m \u001b[0m┃\u001b[1m \u001b[0m\u001b[1m      Param #\u001b[0m\u001b[1m \u001b[0m┃\n",
       "┡━━━━━━━━━━━━━━━━━━━━━━━━━━━━━━━━━╇━━━━━━━━━━━━━━━━━━━━━━━━╇━━━━━━━━━━━━━━━┩\n",
       "│ resnet50v2 (\u001b[38;5;33mFunctional\u001b[0m)         │ (\u001b[38;5;45mNone\u001b[0m, \u001b[38;5;34m32\u001b[0m, \u001b[38;5;34m32\u001b[0m, \u001b[38;5;34m2048\u001b[0m)   │    \u001b[38;5;34m23,564,800\u001b[0m │\n",
       "├─────────────────────────────────┼────────────────────────┼───────────────┤\n",
       "│ batch_normalization_3           │ (\u001b[38;5;45mNone\u001b[0m, \u001b[38;5;34m32\u001b[0m, \u001b[38;5;34m32\u001b[0m, \u001b[38;5;34m2048\u001b[0m)   │         \u001b[38;5;34m8,192\u001b[0m │\n",
       "│ (\u001b[38;5;33mBatchNormalization\u001b[0m)            │                        │               │\n",
       "├─────────────────────────────────┼────────────────────────┼───────────────┤\n",
       "│ max_pooling2d_15 (\u001b[38;5;33mMaxPooling2D\u001b[0m) │ (\u001b[38;5;45mNone\u001b[0m, \u001b[38;5;34m16\u001b[0m, \u001b[38;5;34m16\u001b[0m, \u001b[38;5;34m2048\u001b[0m)   │             \u001b[38;5;34m0\u001b[0m │\n",
       "├─────────────────────────────────┼────────────────────────┼───────────────┤\n",
       "│ global_average_pooling2d_3      │ (\u001b[38;5;45mNone\u001b[0m, \u001b[38;5;34m2048\u001b[0m)           │             \u001b[38;5;34m0\u001b[0m │\n",
       "│ (\u001b[38;5;33mGlobalAveragePooling2D\u001b[0m)        │                        │               │\n",
       "├─────────────────────────────────┼────────────────────────┼───────────────┤\n",
       "│ dropout_3 (\u001b[38;5;33mDropout\u001b[0m)             │ (\u001b[38;5;45mNone\u001b[0m, \u001b[38;5;34m2048\u001b[0m)           │             \u001b[38;5;34m0\u001b[0m │\n",
       "├─────────────────────────────────┼────────────────────────┼───────────────┤\n",
       "│ dense_3 (\u001b[38;5;33mDense\u001b[0m)                 │ (\u001b[38;5;45mNone\u001b[0m, \u001b[38;5;34m5\u001b[0m)              │        \u001b[38;5;34m10,245\u001b[0m │\n",
       "└─────────────────────────────────┴────────────────────────┴───────────────┘\n"
      ]
     },
     "metadata": {},
     "output_type": "display_data"
    },
    {
     "data": {
      "text/html": [
       "<pre style=\"white-space:pre;overflow-x:auto;line-height:normal;font-family:Menlo,'DejaVu Sans Mono',consolas,'Courier New',monospace\"><span style=\"font-weight: bold\"> Total params: </span><span style=\"color: #00af00; text-decoration-color: #00af00\">23,583,237</span> (89.96 MB)\n",
       "</pre>\n"
      ],
      "text/plain": [
       "\u001b[1m Total params: \u001b[0m\u001b[38;5;34m23,583,237\u001b[0m (89.96 MB)\n"
      ]
     },
     "metadata": {},
     "output_type": "display_data"
    },
    {
     "data": {
      "text/html": [
       "<pre style=\"white-space:pre;overflow-x:auto;line-height:normal;font-family:Menlo,'DejaVu Sans Mono',consolas,'Courier New',monospace\"><span style=\"font-weight: bold\"> Trainable params: </span><span style=\"color: #00af00; text-decoration-color: #00af00\">23,533,701</span> (89.77 MB)\n",
       "</pre>\n"
      ],
      "text/plain": [
       "\u001b[1m Trainable params: \u001b[0m\u001b[38;5;34m23,533,701\u001b[0m (89.77 MB)\n"
      ]
     },
     "metadata": {},
     "output_type": "display_data"
    },
    {
     "data": {
      "text/html": [
       "<pre style=\"white-space:pre;overflow-x:auto;line-height:normal;font-family:Menlo,'DejaVu Sans Mono',consolas,'Courier New',monospace\"><span style=\"font-weight: bold\"> Non-trainable params: </span><span style=\"color: #00af00; text-decoration-color: #00af00\">49,536</span> (193.50 KB)\n",
       "</pre>\n"
      ],
      "text/plain": [
       "\u001b[1m Non-trainable params: \u001b[0m\u001b[38;5;34m49,536\u001b[0m (193.50 KB)\n"
      ]
     },
     "metadata": {},
     "output_type": "display_data"
    }
   ],
   "source": [
    "base_model = ResNet50V2(\n",
    "    weights='imagenet', \n",
    "    include_top=False, \n",
    "    input_shape=(img_size[0], img_size[1], 3)\n",
    ")\n",
    "\n",
    "model = models.Sequential([\n",
    "    base_model,\n",
    "    layers.BatchNormalization(),\n",
    "    layers.MaxPooling2D((2, 2)),\n",
    "    layers.GlobalAveragePooling2D(),\n",
    "    layers.Dropout(0.6),\n",
    "    layers.Dense(num_classes, activation=\"softmax\")\n",
    "])\n",
    "model.summary()\n"
   ]
  },
  {
   "cell_type": "code",
   "execution_count": 41,
   "id": "fd749a63",
   "metadata": {},
   "outputs": [],
   "source": [
    "model.compile(\n",
    "    loss='categorical_crossentropy',\n",
    "    optimizer=Nadam(1e-4),\n",
    "    metrics=['accuracy']\n",
    ")\n",
    "\n",
    "# #Recomplile the model\n",
    "# base_model.trainable = True\n",
    "# for layer in base_model.layers[:-50]:\n",
    "#     layer.trainable = False\n",
    "# model.compile(\n",
    "#     loss='categorical_crossentropy',\n",
    "#     optimizer=Nadam(1e-4),\n",
    "#     metrics=['accuracy']\n",
    "# )"
   ]
  },
  {
   "cell_type": "code",
   "execution_count": null,
   "id": "a20f94dd",
   "metadata": {},
   "outputs": [
    {
     "name": "stdout",
     "output_type": "stream",
     "text": [
      "Epoch 1/10\n",
      "\u001b[1m377/485\u001b[0m \u001b[32m━━━━━━━━━━━━━━━\u001b[0m\u001b[37m━━━━━\u001b[0m \u001b[1m36s\u001b[0m 335ms/step - accuracy: 0.2926 - loss: 1.6213"
     ]
    },
    {
     "name": "stderr",
     "output_type": "stream",
     "text": [
      "2025-09-29 20:48:22.434902: E external/local_xla/xla/stream_executor/cuda/cuda_timer.cc:86] Delay kernel timed out: measured time has sub-optimal accuracy. There may be a missing warmup execution, please investigate in Nsight Systems.\n",
      "2025-09-29 20:48:22.556035: E external/local_xla/xla/stream_executor/cuda/cuda_timer.cc:86] Delay kernel timed out: measured time has sub-optimal accuracy. There may be a missing warmup execution, please investigate in Nsight Systems.\n",
      "2025-09-29 20:48:24.165420: E external/local_xla/xla/stream_executor/gpu/gpu_cudamallocasync_allocator.cc:361] gpu_async_0 cuMemAllocAsync failed to allocate 8742043648 bytes: RESOURCE_EXHAUSTED: : CUDA_ERROR_OUT_OF_MEMORY: out of memory\n",
      " Reported by CUDA: Free memory/Total memory: 1451032576/3948675072\n",
      "2025-09-29 20:48:24.165435: E external/local_xla/xla/stream_executor/gpu/gpu_cudamallocasync_allocator.cc:366] Stats: Limit:                      1970929664\n",
      "InUse:                       708291568\n",
      "MaxInUse:                   3030990804\n",
      "NumAllocs:                       57541\n",
      "MaxAllocSize:               2365430160\n",
      "Reserved:                            0\n",
      "PeakReserved:                        0\n",
      "LargestFreeBlock:                    0\n",
      "\n",
      "2025-09-29 20:48:24.165521: E external/local_xla/xla/stream_executor/gpu/gpu_cudamallocasync_allocator.cc:70] Histogram of current allocation: (allocation_size_in_bytes, nb_allocation_of_that_sizes), ...;\n",
      "2025-09-29 20:48:24.165537: E external/local_xla/xla/stream_executor/gpu/gpu_cudamallocasync_allocator.cc:73] 4, 8771\n",
      "2025-09-29 20:48:24.165539: E external/local_xla/xla/stream_executor/gpu/gpu_cudamallocasync_allocator.cc:73] 8, 4\n",
      "2025-09-29 20:48:24.165540: E external/local_xla/xla/stream_executor/gpu/gpu_cudamallocasync_allocator.cc:73] 16, 2\n",
      "2025-09-29 20:48:24.165541: E external/local_xla/xla/stream_executor/gpu/gpu_cudamallocasync_allocator.cc:73] 20, 5\n",
      "2025-09-29 20:48:24.165542: E external/local_xla/xla/stream_executor/gpu/gpu_cudamallocasync_allocator.cc:73] 28, 3\n",
      "2025-09-29 20:48:24.165543: E external/local_xla/xla/stream_executor/gpu/gpu_cudamallocasync_allocator.cc:73] 256, 119\n",
      "2025-09-29 20:48:24.165544: E external/local_xla/xla/stream_executor/gpu/gpu_cudamallocasync_allocator.cc:73] 512, 129\n",
      "2025-09-29 20:48:24.165545: E external/local_xla/xla/stream_executor/gpu/gpu_cudamallocasync_allocator.cc:73] 1024, 265\n",
      "2025-09-29 20:48:24.165546: E external/local_xla/xla/stream_executor/gpu/gpu_cudamallocasync_allocator.cc:73] 1028, 1\n",
      "2025-09-29 20:48:24.165546: E external/local_xla/xla/stream_executor/gpu/gpu_cudamallocasync_allocator.cc:73] 2048, 191\n",
      "2025-09-29 20:48:24.165547: E external/local_xla/xla/stream_executor/gpu/gpu_cudamallocasync_allocator.cc:73] 4096, 139\n",
      "2025-09-29 20:48:24.165548: E external/local_xla/xla/stream_executor/gpu/gpu_cudamallocasync_allocator.cc:73] 5096, 1\n",
      "2025-09-29 20:48:24.165549: E external/local_xla/xla/stream_executor/gpu/gpu_cudamallocasync_allocator.cc:73] 8192, 89\n",
      "2025-09-29 20:48:24.165550: E external/local_xla/xla/stream_executor/gpu/gpu_cudamallocasync_allocator.cc:73] 16384, 7\n",
      "2025-09-29 20:48:24.165551: E external/local_xla/xla/stream_executor/gpu/gpu_cudamallocasync_allocator.cc:73] 37632, 7\n",
      "2025-09-29 20:48:24.165552: E external/local_xla/xla/stream_executor/gpu/gpu_cudamallocasync_allocator.cc:73] 40960, 4\n",
      "2025-09-29 20:48:24.165553: E external/local_xla/xla/stream_executor/gpu/gpu_cudamallocasync_allocator.cc:73] 57344, 3\n",
      "2025-09-29 20:48:24.165554: E external/local_xla/xla/stream_executor/gpu/gpu_cudamallocasync_allocator.cc:73] 65536, 38\n",
      "2025-09-29 20:48:24.165554: E external/local_xla/xla/stream_executor/gpu/gpu_cudamallocasync_allocator.cc:73] 131072, 7\n",
      "2025-09-29 20:48:24.165555: E external/local_xla/xla/stream_executor/gpu/gpu_cudamallocasync_allocator.cc:73] 147456, 19\n",
      "2025-09-29 20:48:24.165556: E external/local_xla/xla/stream_executor/gpu/gpu_cudamallocasync_allocator.cc:73] 262144, 44\n",
      "2025-09-29 20:48:24.165557: E external/local_xla/xla/stream_executor/gpu/gpu_cudamallocasync_allocator.cc:73] 524288, 14\n",
      "2025-09-29 20:48:24.165558: E external/local_xla/xla/stream_executor/gpu/gpu_cudamallocasync_allocator.cc:73] 589824, 25\n",
      "2025-09-29 20:48:24.165559: E external/local_xla/xla/stream_executor/gpu/gpu_cudamallocasync_allocator.cc:73] 1048576, 68\n",
      "2025-09-29 20:48:24.165560: E external/local_xla/xla/stream_executor/gpu/gpu_cudamallocasync_allocator.cc:73] 2097152, 14\n",
      "2025-09-29 20:48:24.165561: E external/local_xla/xla/stream_executor/gpu/gpu_cudamallocasync_allocator.cc:73] 2359296, 37\n",
      "2025-09-29 20:48:24.165562: E external/local_xla/xla/stream_executor/gpu/gpu_cudamallocasync_allocator.cc:73] 4194304, 32\n",
      "2025-09-29 20:48:24.165562: E external/local_xla/xla/stream_executor/gpu/gpu_cudamallocasync_allocator.cc:73] 8388608, 7\n",
      "2025-09-29 20:48:24.165563: E external/local_xla/xla/stream_executor/gpu/gpu_cudamallocasync_allocator.cc:73] 9437184, 19\n",
      "2025-09-29 20:48:24.165564: E external/local_xla/xla/stream_executor/gpu/gpu_cudamallocasync_allocator.cc:73] 12582912, 1\n",
      "2025-09-29 20:48:24.165565: E external/local_xla/xla/stream_executor/gpu/gpu_cudamallocasync_allocator.cc:73] 17367040, 1\n",
      "2025-09-29 20:48:24.165566: E external/local_xla/xla/stream_executor/gpu/gpu_cudamallocasync_allocator.cc:73] 25165824, 3\n",
      "2025-09-29 20:48:24.165568: E external/local_xla/xla/stream_executor/gpu/gpu_cudamallocasync_allocator.cc:106] CU_MEMPOOL_ATTR_RESERVED_MEM_CURRENT: 1946157056\n",
      "2025-09-29 20:48:24.165570: E external/local_xla/xla/stream_executor/gpu/gpu_cudamallocasync_allocator.cc:108] CU_MEMPOOL_ATTR_USED_MEM_CURRENT: 708291568\n",
      "2025-09-29 20:48:24.165571: E external/local_xla/xla/stream_executor/gpu/gpu_cudamallocasync_allocator.cc:109] CU_MEMPOOL_ATTR_RESERVED_MEM_HIGH: 3355443200\n",
      "2025-09-29 20:48:24.165572: E external/local_xla/xla/stream_executor/gpu/gpu_cudamallocasync_allocator.cc:110] CU_MEMPOOL_ATTR_USED_MEM_HIGH: 3030990804\n",
      "2025-09-29 20:48:25.188622: E external/local_xla/xla/stream_executor/gpu/gpu_cudamallocasync_allocator.cc:361] gpu_async_0 cuMemAllocAsync failed to allocate 8777367552 bytes: RESOURCE_EXHAUSTED: : CUDA_ERROR_OUT_OF_MEMORY: out of memory\n",
      " Reported by CUDA: Free memory/Total memory: 1451032576/3948675072\n",
      "2025-09-29 20:48:25.188635: E external/local_xla/xla/stream_executor/gpu/gpu_cudamallocasync_allocator.cc:366] Stats: Limit:                      1970929664\n",
      "InUse:                       697478128\n",
      "MaxInUse:                   3030990804\n",
      "NumAllocs:                       57757\n",
      "MaxAllocSize:               2365430160\n",
      "Reserved:                            0\n",
      "PeakReserved:                        0\n",
      "LargestFreeBlock:                    0\n",
      "\n",
      "2025-09-29 20:48:25.188722: E external/local_xla/xla/stream_executor/gpu/gpu_cudamallocasync_allocator.cc:70] Histogram of current allocation: (allocation_size_in_bytes, nb_allocation_of_that_sizes), ...;\n",
      "2025-09-29 20:48:25.188724: E external/local_xla/xla/stream_executor/gpu/gpu_cudamallocasync_allocator.cc:73] 4, 8771\n",
      "2025-09-29 20:48:25.188726: E external/local_xla/xla/stream_executor/gpu/gpu_cudamallocasync_allocator.cc:73] 8, 4\n",
      "2025-09-29 20:48:25.188727: E external/local_xla/xla/stream_executor/gpu/gpu_cudamallocasync_allocator.cc:73] 16, 2\n",
      "2025-09-29 20:48:25.188728: E external/local_xla/xla/stream_executor/gpu/gpu_cudamallocasync_allocator.cc:73] 20, 5\n",
      "2025-09-29 20:48:25.188729: E external/local_xla/xla/stream_executor/gpu/gpu_cudamallocasync_allocator.cc:73] 28, 3\n",
      "2025-09-29 20:48:25.188730: E external/local_xla/xla/stream_executor/gpu/gpu_cudamallocasync_allocator.cc:73] 256, 119\n",
      "2025-09-29 20:48:25.188731: E external/local_xla/xla/stream_executor/gpu/gpu_cudamallocasync_allocator.cc:73] 512, 129\n",
      "2025-09-29 20:48:25.188732: E external/local_xla/xla/stream_executor/gpu/gpu_cudamallocasync_allocator.cc:73] 1024, 265\n",
      "2025-09-29 20:48:25.188733: E external/local_xla/xla/stream_executor/gpu/gpu_cudamallocasync_allocator.cc:73] 1028, 1\n",
      "2025-09-29 20:48:25.188734: E external/local_xla/xla/stream_executor/gpu/gpu_cudamallocasync_allocator.cc:73] 2048, 191\n",
      "2025-09-29 20:48:25.188734: E external/local_xla/xla/stream_executor/gpu/gpu_cudamallocasync_allocator.cc:73] 4096, 139\n",
      "2025-09-29 20:48:25.188735: E external/local_xla/xla/stream_executor/gpu/gpu_cudamallocasync_allocator.cc:73] 5096, 1\n",
      "2025-09-29 20:48:25.188736: E external/local_xla/xla/stream_executor/gpu/gpu_cudamallocasync_allocator.cc:73] 8192, 89\n",
      "2025-09-29 20:48:25.188737: E external/local_xla/xla/stream_executor/gpu/gpu_cudamallocasync_allocator.cc:73] 16384, 7\n",
      "2025-09-29 20:48:25.188738: E external/local_xla/xla/stream_executor/gpu/gpu_cudamallocasync_allocator.cc:73] 37632, 7\n",
      "2025-09-29 20:48:25.188739: E external/local_xla/xla/stream_executor/gpu/gpu_cudamallocasync_allocator.cc:73] 40960, 4\n",
      "2025-09-29 20:48:25.188740: E external/local_xla/xla/stream_executor/gpu/gpu_cudamallocasync_allocator.cc:73] 57344, 3\n",
      "2025-09-29 20:48:25.188741: E external/local_xla/xla/stream_executor/gpu/gpu_cudamallocasync_allocator.cc:73] 65536, 38\n",
      "2025-09-29 20:48:25.188741: E external/local_xla/xla/stream_executor/gpu/gpu_cudamallocasync_allocator.cc:73] 131072, 7\n",
      "2025-09-29 20:48:25.188742: E external/local_xla/xla/stream_executor/gpu/gpu_cudamallocasync_allocator.cc:73] 147456, 19\n",
      "2025-09-29 20:48:25.188743: E external/local_xla/xla/stream_executor/gpu/gpu_cudamallocasync_allocator.cc:73] 262144, 44\n",
      "2025-09-29 20:48:25.188744: E external/local_xla/xla/stream_executor/gpu/gpu_cudamallocasync_allocator.cc:73] 524288, 14\n",
      "2025-09-29 20:48:25.188745: E external/local_xla/xla/stream_executor/gpu/gpu_cudamallocasync_allocator.cc:73] 589824, 25\n",
      "2025-09-29 20:48:25.188746: E external/local_xla/xla/stream_executor/gpu/gpu_cudamallocasync_allocator.cc:73] 1048576, 68\n",
      "2025-09-29 20:48:25.188747: E external/local_xla/xla/stream_executor/gpu/gpu_cudamallocasync_allocator.cc:73] 2097152, 14\n",
      "2025-09-29 20:48:25.188748: E external/local_xla/xla/stream_executor/gpu/gpu_cudamallocasync_allocator.cc:73] 2359296, 37\n",
      "2025-09-29 20:48:25.188749: E external/local_xla/xla/stream_executor/gpu/gpu_cudamallocasync_allocator.cc:73] 4194304, 32\n",
      "2025-09-29 20:48:25.188752: E external/local_xla/xla/stream_executor/gpu/gpu_cudamallocasync_allocator.cc:73] 8388608, 7\n",
      "2025-09-29 20:48:25.188753: E external/local_xla/xla/stream_executor/gpu/gpu_cudamallocasync_allocator.cc:73] 9437184, 19\n",
      "2025-09-29 20:48:25.188754: E external/local_xla/xla/stream_executor/gpu/gpu_cudamallocasync_allocator.cc:73] 12582912, 1\n",
      "2025-09-29 20:48:25.188755: E external/local_xla/xla/stream_executor/gpu/gpu_cudamallocasync_allocator.cc:73] 19136512, 1\n",
      "2025-09-29 20:48:25.188755: E external/local_xla/xla/stream_executor/gpu/gpu_cudamallocasync_allocator.cc:73] 20971520, 3\n",
      "2025-09-29 20:48:25.188758: E external/local_xla/xla/stream_executor/gpu/gpu_cudamallocasync_allocator.cc:106] CU_MEMPOOL_ATTR_RESERVED_MEM_CURRENT: 1946157056\n",
      "2025-09-29 20:48:25.188759: E external/local_xla/xla/stream_executor/gpu/gpu_cudamallocasync_allocator.cc:108] CU_MEMPOOL_ATTR_USED_MEM_CURRENT: 697478128\n",
      "2025-09-29 20:48:25.188761: E external/local_xla/xla/stream_executor/gpu/gpu_cudamallocasync_allocator.cc:109] CU_MEMPOOL_ATTR_RESERVED_MEM_HIGH: 3355443200\n",
      "2025-09-29 20:48:25.188762: E external/local_xla/xla/stream_executor/gpu/gpu_cudamallocasync_allocator.cc:110] CU_MEMPOOL_ATTR_USED_MEM_HIGH: 3030990804\n",
      "2025-09-29 20:48:26.142931: E external/local_xla/xla/stream_executor/gpu/gpu_cudamallocasync_allocator.cc:361] gpu_async_0 cuMemAllocAsync failed to allocate 8901885952 bytes: RESOURCE_EXHAUSTED: : CUDA_ERROR_OUT_OF_MEMORY: out of memory\n",
      " Reported by CUDA: Free memory/Total memory: 1451032576/3948675072\n",
      "2025-09-29 20:48:26.142944: E external/local_xla/xla/stream_executor/gpu/gpu_cudamallocasync_allocator.cc:366] Stats: Limit:                      1970929664\n",
      "InUse:                       698264560\n",
      "MaxInUse:                   3030990804\n",
      "NumAllocs:                       57972\n",
      "MaxAllocSize:               2365430160\n",
      "Reserved:                            0\n",
      "PeakReserved:                        0\n",
      "LargestFreeBlock:                    0\n",
      "\n",
      "2025-09-29 20:48:26.143026: E external/local_xla/xla/stream_executor/gpu/gpu_cudamallocasync_allocator.cc:70] Histogram of current allocation: (allocation_size_in_bytes, nb_allocation_of_that_sizes), ...;\n",
      "2025-09-29 20:48:26.143030: E external/local_xla/xla/stream_executor/gpu/gpu_cudamallocasync_allocator.cc:73] 4, 8771\n",
      "2025-09-29 20:48:26.143031: E external/local_xla/xla/stream_executor/gpu/gpu_cudamallocasync_allocator.cc:73] 8, 4\n",
      "2025-09-29 20:48:26.143032: E external/local_xla/xla/stream_executor/gpu/gpu_cudamallocasync_allocator.cc:73] 16, 2\n",
      "2025-09-29 20:48:26.143033: E external/local_xla/xla/stream_executor/gpu/gpu_cudamallocasync_allocator.cc:73] 20, 5\n",
      "2025-09-29 20:48:26.143034: E external/local_xla/xla/stream_executor/gpu/gpu_cudamallocasync_allocator.cc:73] 28, 3\n",
      "2025-09-29 20:48:26.143035: E external/local_xla/xla/stream_executor/gpu/gpu_cudamallocasync_allocator.cc:73] 256, 119\n",
      "2025-09-29 20:48:26.143036: E external/local_xla/xla/stream_executor/gpu/gpu_cudamallocasync_allocator.cc:73] 512, 129\n",
      "2025-09-29 20:48:26.143037: E external/local_xla/xla/stream_executor/gpu/gpu_cudamallocasync_allocator.cc:73] 1024, 265\n",
      "2025-09-29 20:48:26.143038: E external/local_xla/xla/stream_executor/gpu/gpu_cudamallocasync_allocator.cc:73] 1028, 1\n",
      "2025-09-29 20:48:26.143039: E external/local_xla/xla/stream_executor/gpu/gpu_cudamallocasync_allocator.cc:73] 2048, 191\n",
      "2025-09-29 20:48:26.143040: E external/local_xla/xla/stream_executor/gpu/gpu_cudamallocasync_allocator.cc:73] 4096, 139\n",
      "2025-09-29 20:48:26.143041: E external/local_xla/xla/stream_executor/gpu/gpu_cudamallocasync_allocator.cc:73] 5096, 1\n",
      "2025-09-29 20:48:26.143042: E external/local_xla/xla/stream_executor/gpu/gpu_cudamallocasync_allocator.cc:73] 8192, 89\n",
      "2025-09-29 20:48:26.143042: E external/local_xla/xla/stream_executor/gpu/gpu_cudamallocasync_allocator.cc:73] 16384, 7\n",
      "2025-09-29 20:48:26.143043: E external/local_xla/xla/stream_executor/gpu/gpu_cudamallocasync_allocator.cc:73] 37632, 7\n",
      "2025-09-29 20:48:26.143044: E external/local_xla/xla/stream_executor/gpu/gpu_cudamallocasync_allocator.cc:73] 40960, 4\n",
      "2025-09-29 20:48:26.143045: E external/local_xla/xla/stream_executor/gpu/gpu_cudamallocasync_allocator.cc:73] 57344, 3\n",
      "2025-09-29 20:48:26.143046: E external/local_xla/xla/stream_executor/gpu/gpu_cudamallocasync_allocator.cc:73] 65536, 38\n",
      "2025-09-29 20:48:26.143047: E external/local_xla/xla/stream_executor/gpu/gpu_cudamallocasync_allocator.cc:73] 131072, 7\n",
      "2025-09-29 20:48:26.143048: E external/local_xla/xla/stream_executor/gpu/gpu_cudamallocasync_allocator.cc:73] 147456, 19\n",
      "2025-09-29 20:48:26.143049: E external/local_xla/xla/stream_executor/gpu/gpu_cudamallocasync_allocator.cc:73] 262144, 44\n",
      "2025-09-29 20:48:26.143050: E external/local_xla/xla/stream_executor/gpu/gpu_cudamallocasync_allocator.cc:73] 524288, 14\n",
      "2025-09-29 20:48:26.143051: E external/local_xla/xla/stream_executor/gpu/gpu_cudamallocasync_allocator.cc:73] 589824, 25\n",
      "2025-09-29 20:48:26.143052: E external/local_xla/xla/stream_executor/gpu/gpu_cudamallocasync_allocator.cc:73] 1048576, 68\n",
      "2025-09-29 20:48:26.143052: E external/local_xla/xla/stream_executor/gpu/gpu_cudamallocasync_allocator.cc:73] 2097152, 14\n",
      "2025-09-29 20:48:26.143053: E external/local_xla/xla/stream_executor/gpu/gpu_cudamallocasync_allocator.cc:73] 2359296, 37\n",
      "2025-09-29 20:48:26.143054: E external/local_xla/xla/stream_executor/gpu/gpu_cudamallocasync_allocator.cc:73] 4194304, 32\n",
      "2025-09-29 20:48:26.143055: E external/local_xla/xla/stream_executor/gpu/gpu_cudamallocasync_allocator.cc:73] 8388608, 7\n",
      "2025-09-29 20:48:26.143056: E external/local_xla/xla/stream_executor/gpu/gpu_cudamallocasync_allocator.cc:73] 9437184, 19\n",
      "2025-09-29 20:48:26.143057: E external/local_xla/xla/stream_executor/gpu/gpu_cudamallocasync_allocator.cc:73] 12582912, 1\n",
      "2025-09-29 20:48:26.143058: E external/local_xla/xla/stream_executor/gpu/gpu_cudamallocasync_allocator.cc:73] 18874368, 3\n",
      "2025-09-29 20:48:26.143059: E external/local_xla/xla/stream_executor/gpu/gpu_cudamallocasync_allocator.cc:73] 26214400, 1\n",
      "2025-09-29 20:48:26.143062: E external/local_xla/xla/stream_executor/gpu/gpu_cudamallocasync_allocator.cc:106] CU_MEMPOOL_ATTR_RESERVED_MEM_CURRENT: 1946157056\n",
      "2025-09-29 20:48:26.143063: E external/local_xla/xla/stream_executor/gpu/gpu_cudamallocasync_allocator.cc:108] CU_MEMPOOL_ATTR_USED_MEM_CURRENT: 698264560\n",
      "2025-09-29 20:48:26.143064: E external/local_xla/xla/stream_executor/gpu/gpu_cudamallocasync_allocator.cc:109] CU_MEMPOOL_ATTR_RESERVED_MEM_HIGH: 3355443200\n",
      "2025-09-29 20:48:26.143065: E external/local_xla/xla/stream_executor/gpu/gpu_cudamallocasync_allocator.cc:110] CU_MEMPOOL_ATTR_USED_MEM_HIGH: 3030990804\n",
      "2025-09-29 20:48:31.631138: E external/local_xla/xla/stream_executor/gpu/gpu_cudamallocasync_allocator.cc:361] gpu_async_0 cuMemAllocAsync failed to allocate 8682209280 bytes: RESOURCE_EXHAUSTED: : CUDA_ERROR_OUT_OF_MEMORY: out of memory\n",
      " Reported by CUDA: Free memory/Total memory: 1451032576/3948675072\n",
      "2025-09-29 20:48:31.631151: E external/local_xla/xla/stream_executor/gpu/gpu_cudamallocasync_allocator.cc:366] Stats: Limit:                      1970929664\n",
      "InUse:                       700492784\n",
      "MaxInUse:                   3030990804\n",
      "NumAllocs:                       58905\n",
      "MaxAllocSize:               2365430160\n",
      "Reserved:                            0\n",
      "PeakReserved:                        0\n",
      "LargestFreeBlock:                    0\n",
      "\n",
      "2025-09-29 20:48:31.631264: E external/local_xla/xla/stream_executor/gpu/gpu_cudamallocasync_allocator.cc:70] Histogram of current allocation: (allocation_size_in_bytes, nb_allocation_of_that_sizes), ...;\n",
      "2025-09-29 20:48:31.631267: E external/local_xla/xla/stream_executor/gpu/gpu_cudamallocasync_allocator.cc:73] 4, 8771\n",
      "2025-09-29 20:48:31.631268: E external/local_xla/xla/stream_executor/gpu/gpu_cudamallocasync_allocator.cc:73] 8, 4\n",
      "2025-09-29 20:48:31.631269: E external/local_xla/xla/stream_executor/gpu/gpu_cudamallocasync_allocator.cc:73] 16, 2\n",
      "2025-09-29 20:48:31.631270: E external/local_xla/xla/stream_executor/gpu/gpu_cudamallocasync_allocator.cc:73] 20, 5\n",
      "2025-09-29 20:48:31.631271: E external/local_xla/xla/stream_executor/gpu/gpu_cudamallocasync_allocator.cc:73] 28, 3\n",
      "2025-09-29 20:48:31.631272: E external/local_xla/xla/stream_executor/gpu/gpu_cudamallocasync_allocator.cc:73] 256, 119\n",
      "2025-09-29 20:48:31.631273: E external/local_xla/xla/stream_executor/gpu/gpu_cudamallocasync_allocator.cc:73] 512, 129\n",
      "2025-09-29 20:48:31.631274: E external/local_xla/xla/stream_executor/gpu/gpu_cudamallocasync_allocator.cc:73] 1024, 265\n",
      "2025-09-29 20:48:31.631275: E external/local_xla/xla/stream_executor/gpu/gpu_cudamallocasync_allocator.cc:73] 1028, 1\n",
      "2025-09-29 20:48:31.631276: E external/local_xla/xla/stream_executor/gpu/gpu_cudamallocasync_allocator.cc:73] 2048, 191\n",
      "2025-09-29 20:48:31.631276: E external/local_xla/xla/stream_executor/gpu/gpu_cudamallocasync_allocator.cc:73] 4096, 139\n",
      "2025-09-29 20:48:31.631277: E external/local_xla/xla/stream_executor/gpu/gpu_cudamallocasync_allocator.cc:73] 5096, 1\n",
      "2025-09-29 20:48:31.631278: E external/local_xla/xla/stream_executor/gpu/gpu_cudamallocasync_allocator.cc:73] 8192, 89\n",
      "2025-09-29 20:48:31.631279: E external/local_xla/xla/stream_executor/gpu/gpu_cudamallocasync_allocator.cc:73] 16384, 7\n",
      "2025-09-29 20:48:31.631280: E external/local_xla/xla/stream_executor/gpu/gpu_cudamallocasync_allocator.cc:73] 37632, 7\n",
      "2025-09-29 20:48:31.631281: E external/local_xla/xla/stream_executor/gpu/gpu_cudamallocasync_allocator.cc:73] 40960, 4\n",
      "2025-09-29 20:48:31.631282: E external/local_xla/xla/stream_executor/gpu/gpu_cudamallocasync_allocator.cc:73] 57344, 3\n",
      "2025-09-29 20:48:31.631282: E external/local_xla/xla/stream_executor/gpu/gpu_cudamallocasync_allocator.cc:73] 65536, 38\n",
      "2025-09-29 20:48:31.631283: E external/local_xla/xla/stream_executor/gpu/gpu_cudamallocasync_allocator.cc:73] 131072, 7\n",
      "2025-09-29 20:48:31.631284: E external/local_xla/xla/stream_executor/gpu/gpu_cudamallocasync_allocator.cc:73] 147456, 19\n",
      "2025-09-29 20:48:31.631285: E external/local_xla/xla/stream_executor/gpu/gpu_cudamallocasync_allocator.cc:73] 262144, 44\n",
      "2025-09-29 20:48:31.631286: E external/local_xla/xla/stream_executor/gpu/gpu_cudamallocasync_allocator.cc:73] 524288, 14\n",
      "2025-09-29 20:48:31.631287: E external/local_xla/xla/stream_executor/gpu/gpu_cudamallocasync_allocator.cc:73] 589824, 25\n",
      "2025-09-29 20:48:31.631287: E external/local_xla/xla/stream_executor/gpu/gpu_cudamallocasync_allocator.cc:73] 1048576, 68\n",
      "2025-09-29 20:48:31.631288: E external/local_xla/xla/stream_executor/gpu/gpu_cudamallocasync_allocator.cc:73] 2097152, 14\n",
      "2025-09-29 20:48:31.631289: E external/local_xla/xla/stream_executor/gpu/gpu_cudamallocasync_allocator.cc:73] 2359296, 37\n",
      "2025-09-29 20:48:31.631290: E external/local_xla/xla/stream_executor/gpu/gpu_cudamallocasync_allocator.cc:73] 4194304, 32\n",
      "2025-09-29 20:48:31.631291: E external/local_xla/xla/stream_executor/gpu/gpu_cudamallocasync_allocator.cc:73] 8388608, 7\n",
      "2025-09-29 20:48:31.631292: E external/local_xla/xla/stream_executor/gpu/gpu_cudamallocasync_allocator.cc:73] 9437184, 19\n",
      "2025-09-29 20:48:31.631293: E external/local_xla/xla/stream_executor/gpu/gpu_cudamallocasync_allocator.cc:73] 12582912, 1\n",
      "2025-09-29 20:48:31.631294: E external/local_xla/xla/stream_executor/gpu/gpu_cudamallocasync_allocator.cc:73] 17367040, 2\n",
      "2025-09-29 20:48:31.631294: E external/local_xla/xla/stream_executor/gpu/gpu_cudamallocasync_allocator.cc:73] 25165824, 2\n",
      "2025-09-29 20:48:31.631297: E external/local_xla/xla/stream_executor/gpu/gpu_cudamallocasync_allocator.cc:106] CU_MEMPOOL_ATTR_RESERVED_MEM_CURRENT: 1946157056\n",
      "2025-09-29 20:48:31.631298: E external/local_xla/xla/stream_executor/gpu/gpu_cudamallocasync_allocator.cc:108] CU_MEMPOOL_ATTR_USED_MEM_CURRENT: 700492784\n",
      "2025-09-29 20:48:31.631299: E external/local_xla/xla/stream_executor/gpu/gpu_cudamallocasync_allocator.cc:109] CU_MEMPOOL_ATTR_RESERVED_MEM_HIGH: 3355443200\n",
      "2025-09-29 20:48:31.631300: E external/local_xla/xla/stream_executor/gpu/gpu_cudamallocasync_allocator.cc:110] CU_MEMPOOL_ATTR_USED_MEM_HIGH: 3030990804\n"
     ]
    },
    {
     "name": "stdout",
     "output_type": "stream",
     "text": [
      "\u001b[1m485/485\u001b[0m \u001b[32m━━━━━━━━━━━━━━━━━━━━\u001b[0m\u001b[37m\u001b[0m \u001b[1m241s\u001b[0m 446ms/step - accuracy: 0.3901 - loss: 1.4762 - val_accuracy: 0.6025 - val_loss: 1.1743\n",
      "Epoch 2/10\n",
      "\u001b[1m485/485\u001b[0m \u001b[32m━━━━━━━━━━━━━━━━━━━━\u001b[0m\u001b[37m\u001b[0m \u001b[1m194s\u001b[0m 399ms/step - accuracy: 0.5129 - loss: 1.2607 - val_accuracy: 0.5523 - val_loss: 1.5095\n",
      "Epoch 3/10\n",
      "\u001b[1m244/485\u001b[0m \u001b[32m━━━━━━━━━━\u001b[0m\u001b[37m━━━━━━━━━━\u001b[0m \u001b[1m1:20\u001b[0m 335ms/step - accuracy: 0.4994 - loss: 1.2035"
     ]
    }
   ],
   "source": [
    "# 5. Train the Model\n",
    "\n",
    "from tensorflow.keras.callbacks import EarlyStopping\n",
    "\n",
    "early_stop = EarlyStopping(\n",
    "    monitor='val_loss',      # monitor validation loss\n",
    "    patience=5,              # stop if no improvement for 5 epochs\n",
    "    restore_best_weights=True, # restore weights from best epoch\n",
    "    verbose=1\n",
    ")\n",
    "\n",
    "history = model.fit(\n",
    "    train_data,\n",
    "    validation_data=val_data,\n",
    "    epochs=10,              # set a high number; EarlyStopping will stop automatically\n",
    "    callbacks=[early_stop]\n",
    ")\n"
   ]
  },
  {
   "cell_type": "code",
   "execution_count": null,
   "id": "3b966956",
   "metadata": {},
   "outputs": [
    {
     "name": "stdout",
     "output_type": "stream",
     "text": [
      "\u001b[1m95/95\u001b[0m \u001b[32m━━━━━━━━━━━━━━━━━━━━\u001b[0m\u001b[37m\u001b[0m \u001b[1m27s\u001b[0m 279ms/step - accuracy: 0.7263 - loss: 0.8246\n",
      "Test Accuracy: 72.63%\n"
     ]
    }
   ],
   "source": [
    "        # 6. Evaluate on Test Set\n",
    "loss, acc = model.evaluate(val_data)\n",
    "print(f\"Test Accuracy: {acc*100:.2f}%\")\n"
   ]
  },
  {
   "cell_type": "code",
   "execution_count": null,
   "id": "81875de7",
   "metadata": {},
   "outputs": [
    {
     "data": {
      "image/png": "[encoded data removed]",
      "text/plain": [
       "<Figure size 1200x400 with 2 Axes>"
      ]
     },
     "metadata": {},
     "output_type": "display_data"
    }
   ],
   "source": [
    "# 7. Training Curves (Accuracy & Loss)\n",
    "plt.figure(figsize=(12,4))\n",
    "\n",
    "# Accuracy\n",
    "plt.subplot(1,2,1)\n",
    "plt.plot(history.history['accuracy'], label='Train Acc')\n",
    "plt.plot(history.history['val_accuracy'], label='Val Acc')\n",
    "plt.title(\"Accuracy\")\n",
    "plt.xlabel(\"Epochs\")\n",
    "plt.ylabel(\"Accuracy\")\n",
    "plt.legend()\n",
    "\n",
    "# Loss\n",
    "plt.subplot(1,2,2)\n",
    "plt.plot(history.history['loss'], label='Train Loss')\n",
    "plt.plot(history.history['val_loss'], label='Val Loss')\n",
    "plt.title(\"Loss\")\n",
    "plt.xlabel(\"Epochs\")\n",
    "plt.ylabel(\"Loss\")\n",
    "plt.legend()\n",
    "\n",
    "plt.show()\n"
   ]
  },
  {
   "cell_type": "code",
   "execution_count": null,
   "id": "75a4442e",
   "metadata": {},
   "outputs": [
    {
     "name": "stdout",
     "output_type": "stream",
     "text": [
      "\u001b[1m95/95\u001b[0m \u001b[32m━━━━━━━━━━━━━━━━━━━━\u001b[0m\u001b[37m\u001b[0m \u001b[1m28s\u001b[0m 277ms/step\n"
     ]
    },
    {
     "data": {
      "image/png": "[encoded data removed]",
      "text/plain": [
       "<Figure size 1000x800 with 2 Axes>"
      ]
     },
     "metadata": {},
     "output_type": "display_data"
    },
    {
     "name": "stdout",
     "output_type": "stream",
     "text": [
      "              precision    recall  f1-score   support\n",
      "\n",
      "       dhani       0.07      0.11      0.08        19\n",
      "  cholistani       0.33      0.36      0.34        44\n",
      "     fresian       0.00      0.00      0.00        13\n",
      "       sibbi       0.19      0.15      0.17        27\n",
      "    kankarej       0.09      0.07      0.08        15\n",
      "     brahman       0.18      0.26      0.21        38\n",
      "     sahiwal       0.17      0.06      0.09        34\n",
      "\n",
      "    accuracy                           0.18       190\n",
      "   macro avg       0.15      0.14      0.14       190\n",
      "weighted avg       0.18      0.18      0.18       190\n",
      "\n"
     ]
    }
   ],
   "source": [
    "# 8. Confusion Matrix & Classification Report\n",
    "y_true = val_data.classes\n",
    "y_pred = np.argmax(model.predict(val_data), axis=1)\n",
    "\n",
    "cm = confusion_matrix(y_true, y_pred)\n",
    "plt.figure(figsize=(10,8))\n",
    "sns.heatmap(cm, annot=False, cmap=\"Blues\")\n",
    "plt.title(\"Confusion Matrix\")\n",
    "plt.xlabel(\"Predicted\")\n",
    "plt.ylabel(\"True\")\n",
    "plt.show()\n",
    "\n",
    "print(classification_report(y_true, y_pred, target_names=list(val_data.class_indices.keys())))\n"
   ]
  },
  {
   "cell_type": "markdown",
   "id": "a1fe8573",
   "metadata": {},
   "source": []
  }
 ],
 "metadata": {
  "kernelspec": {
   "display_name": ".venv (3.13.7)",
   "language": "python",
   "name": "python3"
  },
  "language_info": {
   "codemirror_mode": {
    "name": "ipython",
    "version": 3
   },
   "file_extension": ".py",
   "mimetype": "text/x-python",
   "name": "python",
   "nbconvert_exporter": "python",
   "pygments_lexer": "ipython3",
   "version": "3.13.7"
  }
 },
 "nbformat": 4,
 "nbformat_minor": 5
}
